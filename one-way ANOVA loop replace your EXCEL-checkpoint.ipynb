{
 "cells": [
  {
   "cell_type": "markdown",
   "metadata": {},
   "source": [
    "## one-way ANOVA loop to count over hundreds of criterial group(bacteria)\n",
    "\n",
    "工作上套用for loop取代用Excel手動計算上百的條件之one-way ANOVA分析 (針對每個菌屬在三群病人中都要分析一次ANOVA)"
   ]
  },
  {
   "cell_type": "code",
   "execution_count": 1,
   "metadata": {},
   "outputs": [],
   "source": [
    "import pandas as pd\n",
    "import statsmodels.api as sm\n",
    "from statsmodels.formula.api import ols"
   ]
  },
  {
   "cell_type": "code",
   "execution_count": 2,
   "metadata": {},
   "outputs": [
    {
     "name": "stdout",
     "output_type": "stream",
     "text": [
      "                sum_sq    df         F    PR(>F)\n",
      "group     6.688138e-07   2.0  0.320782  0.727264\n",
      "Residual  4.586892e-05  44.0       NaN       NaN\n",
      "            sum_sq    df         F    PR(>F)\n",
      "group     0.000003   2.0  0.608511  0.548676\n",
      "Residual  0.000121  44.0       NaN       NaN\n",
      "            sum_sq    df         F    PR(>F)\n",
      "group     0.000001   2.0  0.608511  0.548676\n",
      "Residual  0.000037  44.0       NaN       NaN\n",
      "            sum_sq    df         F    PR(>F)\n",
      "group     0.000001   2.0  1.430539  0.250086\n",
      "Residual  0.000020  44.0       NaN       NaN\n",
      "                sum_sq    df         F    PR(>F)\n",
      "group     9.947656e-07   2.0  2.607903  0.085047\n",
      "Residual  8.391740e-06  44.0       NaN       NaN\n",
      "            sum_sq    df         F    PR(>F)\n",
      "group     0.000003   2.0  0.608511  0.548676\n",
      "Residual  0.000103  44.0       NaN       NaN\n",
      "            sum_sq    df         F    PR(>F)\n",
      "group     0.000033   2.0  0.053099  0.948346\n",
      "Residual  0.013713  44.0       NaN       NaN\n",
      "            sum_sq    df         F    PR(>F)\n",
      "group     0.000001   2.0  1.608857  0.211665\n",
      "Residual  0.000019  44.0       NaN       NaN\n"
     ]
    }
   ],
   "source": [
    "data = pd.read_csv('genus.csv')\n",
    "final = pd.DataFrame()\n",
    "\n",
    "Alist= data.columns[2:10]\n",
    "for variable in Alist:\n",
    "    mod = ols('{} ~ group'.format(variable), data=data).fit()       \n",
    "    avo_table = sm.stats.anova_lm(mod, typ=2)\n",
    "    print(avo_table)\n",
    "    df=pd.DataFrame(data=avo_table)\n",
    "    final = final.append(df)"
   ]
  },
  {
   "cell_type": "code",
   "execution_count": 3,
   "metadata": {},
   "outputs": [],
   "source": [
    "#export csv file(you can open in EXCEL)\n",
    "final.to_csv('anova_result_WF.csv')"
   ]
  }
 ],
 "metadata": {
  "kernelspec": {
   "display_name": "Python 3",
   "language": "python",
   "name": "python3"
  },
  "language_info": {
   "codemirror_mode": {
    "name": "ipython",
    "version": 3
   },
   "file_extension": ".py",
   "mimetype": "text/x-python",
   "name": "python",
   "nbconvert_exporter": "python",
   "pygments_lexer": "ipython3",
   "version": "3.7.6"
  }
 },
 "nbformat": 4,
 "nbformat_minor": 4
}
