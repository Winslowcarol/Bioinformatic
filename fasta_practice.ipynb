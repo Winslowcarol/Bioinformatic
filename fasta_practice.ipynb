{
 "cells": [
  {
   "cell_type": "code",
   "execution_count": 1,
   "metadata": {},
   "outputs": [
    {
     "data": {
      "text/plain": [
       "'1.0.5'"
      ]
     },
     "execution_count": 1,
     "metadata": {},
     "output_type": "execute_result"
    }
   ],
   "source": [
    "import bioinfokit\n",
    "bioinfokit.__version__"
   ]
  },
  {
   "cell_type": "code",
   "execution_count": 79,
   "metadata": {},
   "outputs": [
    {
     "name": "stdout",
     "output_type": "stream",
     "text": [
      "HLA:HLA26560 seq: TAAAGCCCGCACGCACCCAC A:T:C:G= 6 1 10 3\n",
      "HLA:HLA26769 seq: GACCGGGGGAGCCGCGCCGG A:T:C:G= 2 0 7 11\n",
      "HLA:HLA26076 seq: GCCGTCATGGCGCCCCGAAC A:T:C:G= 3 2 9 6\n",
      "HLA:HLA05443 seq: CGGGGGCGCAGGACCCGGGA A:T:C:G= 3 0 6 11\n",
      "HLA:HLA25681 seq: GTGTCCCGGCCCGGCCGCGG A:T:C:G= 0 2 9 9\n"
     ]
    }
   ],
   "source": [
    "from bioinfokit.analys import fasta\n",
    "fasta_iter = fasta.fasta_reader(file='A_gen.Fasta')\n",
    "# read fasta file\n",
    "\n",
    "ID=[\"HLA:HLA25681\",\"HLA:HLA05443\",\"HLA:HLA26560\",\"HLA:HLA26769\",\"HLA:HLA26076\"]  \n",
    "for record in fasta_iter:\n",
    "    header, sequence = record\n",
    "    if header in ID:\n",
    "        short_seq=sequence[250:270]\n",
    "        # count A bases\n",
    "        a_base = short_seq.count('A')\n",
    "        t_base = short_seq.count('T')\n",
    "        c_base = short_seq.count('C')\n",
    "        g_base = short_seq.count('G')\n",
    "        print(header,'seq:', short_seq, 'A:T:C:G=',a_base, t_base, c_base, g_base)\n",
    "    "
   ]
  },
  {
   "cell_type": "code",
   "execution_count": null,
   "metadata": {},
   "outputs": [],
   "source": []
  }
 ],
 "metadata": {
  "kernelspec": {
   "display_name": "Python 3",
   "language": "python",
   "name": "python3"
  },
  "language_info": {
   "codemirror_mode": {
    "name": "ipython",
    "version": 3
   },
   "file_extension": ".py",
   "mimetype": "text/x-python",
   "name": "python",
   "nbconvert_exporter": "python",
   "pygments_lexer": "ipython3",
   "version": "3.7.6"
  }
 },
 "nbformat": 4,
 "nbformat_minor": 4
}
